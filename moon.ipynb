{
 "metadata": {
  "language_info": {
   "codemirror_mode": {
    "name": "ipython",
    "version": 3
   },
   "file_extension": ".py",
   "mimetype": "text/x-python",
   "name": "python",
   "nbconvert_exporter": "python",
   "pygments_lexer": "ipython3",
   "version": "3.9.5"
  },
  "orig_nbformat": 2,
  "kernelspec": {
   "name": "python395jvsc74a57bd035ab3838d3eb42df8bdd691d6dbf2b806ee94e02fc85a42c49d7489df2c16646",
   "display_name": "Python 3.9.5 64-bit ('PythonSoftwareFoundation.Python.3.9_qbz5n2kfra8p0')"
  },
  "metadata": {
   "interpreter": {
    "hash": "35ab3838d3eb42df8bdd691d6dbf2b806ee94e02fc85a42c49d7489df2c16646"
   }
  }
 },
 "nbformat": 4,
 "nbformat_minor": 2,
 "cells": [
  {
   "source": [
    "# Moon Phase"
   ],
   "cell_type": "markdown",
   "metadata": {}
  },
  {
   "cell_type": "code",
   "execution_count": 1,
   "metadata": {},
   "outputs": [],
   "source": [
    "import pylunar, datetime\n",
    "\n",
    "moon = pylunar.MoonInfo((35, 41, 21.308),(51,23,22.561))"
   ]
  },
  {
   "cell_type": "code",
   "execution_count": 2,
   "metadata": {},
   "outputs": [
    {
     "output_type": "execute_result",
     "data": {
      "text/plain": [
       "4.721707152239105"
      ]
     },
     "metadata": {},
     "execution_count": 2
    }
   ],
   "source": [
    "today = datetime.datetime.now()\n",
    "\n",
    "moon.update((today.year, today.month, today.day, today.hour, today.minute, 0))\n",
    "moon.age()"
   ]
  },
  {
   "cell_type": "code",
   "execution_count": 3,
   "metadata": {},
   "outputs": [
    {
     "output_type": "execute_result",
     "data": {
      "text/plain": [
       "'WAXING_CRESCENT'"
      ]
     },
     "metadata": {},
     "execution_count": 3
    }
   ],
   "source": [
    "moon.phase_name()"
   ]
  },
  {
   "cell_type": "code",
   "execution_count": 4,
   "metadata": {},
   "outputs": [
    {
     "output_type": "execute_result",
     "data": {
      "text/plain": [
       "[('first_quarter', (2021, 5, 19, 19, 12, 34.38832396175712)),\n",
       " ('full_moon', (2021, 5, 26, 11, 13, 49.948792001232505)),\n",
       " ('last_quarter', (2021, 6, 2, 7, 24, 20.406075278297067)),\n",
       " ('new_moon', (2021, 6, 10, 10, 52, 35.33035104162991))]"
      ]
     },
     "metadata": {},
     "execution_count": 4
    }
   ],
   "source": [
    "moon.next_four_phases()"
   ]
  }
 ]
}